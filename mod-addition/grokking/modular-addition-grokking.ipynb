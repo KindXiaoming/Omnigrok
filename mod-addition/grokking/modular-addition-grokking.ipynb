{
  "cells": [
    {
      "cell_type": "markdown",
      "source": [
        "# Exploring the importance of model weight norm to grokking in small transformers learning modular addition\n",
        "\n",
        "This notebook reproduces Figure 7 from the paper [Omnigrok: Grokking Beyond Algorithmic Data](https://arxiv.org/abs/2210.01117), showing how constraining weight norm influences grokking. The setup here is similar to the original paper on grokking from [Power et al.](https://arxiv.org/abs/2201.02177) -- we train small transformer models to do math operations, here modular addition. We use exactly the same setup as Nanda and Lieberum's [A Mechanistic Interpretability Analysis of Grokking](https://www.alignmentforum.org/posts/N6WM6hs7RQMKDhYjB/a-mechanistic-interpretability-analysis-of-grokking). The transformer implementation and the choice of hyperparameters is taken directly from [Neel's colab notebook](https://colab.research.google.com/drive/1F6_1_cWXE5M7WocUcpQWp3v8z4b1jL20). We'll see that constraining optimization to lie on a hypersphere of constant model weight norm significantly changes the learning dynamics, bringing train and test accuracy curves together."
      ],
      "metadata": {
        "id": "c2QbuxvSYU1y"
      }
    },
    {
      "cell_type": "markdown",
      "source": [
        "### Imports"
      ],
      "metadata": {
        "id": "bAUdpAMIC1-w"
      }
    },
    {
      "cell_type": "code",
      "execution_count": null,
      "metadata": {
        "colab": {
          "base_uri": "https://localhost:8080/"
        },
        "id": "_q1N25u_FdDY",
        "outputId": "79afeec9-7174-4aef-855c-bdd6c4eca8dc"
      },
      "outputs": [
        {
          "output_type": "stream",
          "name": "stdout",
          "text": [
            "Tue Oct  4 18:16:15 2022       \n",
            "+-----------------------------------------------------------------------------+\n",
            "| NVIDIA-SMI 460.32.03    Driver Version: 460.32.03    CUDA Version: 11.2     |\n",
            "|-------------------------------+----------------------+----------------------+\n",
            "| GPU  Name        Persistence-M| Bus-Id        Disp.A | Volatile Uncorr. ECC |\n",
            "| Fan  Temp  Perf  Pwr:Usage/Cap|         Memory-Usage | GPU-Util  Compute M. |\n",
            "|                               |                      |               MIG M. |\n",
            "|===============================+======================+======================|\n",
            "|   0  Tesla T4            Off  | 00000000:00:04.0 Off |                    0 |\n",
            "| N/A   68C    P8    11W /  70W |      0MiB / 15109MiB |      0%      Default |\n",
            "|                               |                      |                  N/A |\n",
            "+-------------------------------+----------------------+----------------------+\n",
            "                                                                               \n",
            "+-----------------------------------------------------------------------------+\n",
            "| Processes:                                                                  |\n",
            "|  GPU   GI   CI        PID   Type   Process name                  GPU Memory |\n",
            "|        ID   ID                                                   Usage      |\n",
            "|=============================================================================|\n",
            "|  No running processes found                                                 |\n",
            "+-----------------------------------------------------------------------------+\n"
          ]
        }
      ],
      "source": [
        "!nvidia-smi"
      ]
    },
    {
      "cell_type": "code",
      "execution_count": null,
      "metadata": {
        "colab": {
          "base_uri": "https://localhost:8080/"
        },
        "id": "eErNt-8AGUaO",
        "outputId": "c4fe0018-cd33-45ec-923e-6acaf7b48881"
      },
      "outputs": [
        {
          "output_type": "stream",
          "name": "stdout",
          "text": [
            "Looking in indexes: https://pypi.org/simple, https://us-python.pkg.dev/colab-wheels/public/simple/\n",
            "Collecting einops\n",
            "  Downloading einops-0.5.0-py3-none-any.whl (36 kB)\n",
            "Installing collected packages: einops\n",
            "Successfully installed einops-0.5.0\n"
          ]
        }
      ],
      "source": [
        "!pip install einops"
      ]
    },
    {
      "cell_type": "code",
      "execution_count": null,
      "metadata": {
        "id": "HzL5FOpyGUP8"
      },
      "outputs": [],
      "source": [
        "import os\n",
        "import random\n",
        "import time\n",
        "\n",
        "import torch\n",
        "import torch.nn as nn\n",
        "import torch.nn.functional as F\n",
        "import numpy as np\n",
        "import einops\n",
        "from tqdm.auto import tqdm\n",
        "\n",
        "import matplotlib.pyplot as plt"
      ]
    },
    {
      "cell_type": "markdown",
      "metadata": {
        "id": "r2HgOcrFGd4E"
      },
      "source": [
        "### Transformer implementation"
      ]
    },
    {
      "cell_type": "code",
      "execution_count": null,
      "metadata": {
        "id": "_v3ZPsSBGdvG"
      },
      "outputs": [],
      "source": [
        "# This code was taken directly from Neel Nanda's study of grokking:\n",
        "# https://colab.research.google.com/drive/1F6_1_cWXE5M7WocUcpQWp3v8z4b1jL20\n",
        "\n",
        "class HookPoint(nn.Module):\n",
        "    def __init__(self):\n",
        "        super().__init__()\n",
        "        self.fwd_hooks = []\n",
        "        self.bwd_hooks = []\n",
        "    \n",
        "    def give_name(self, name):\n",
        "        # Called by the model at initialisation\n",
        "        self.name = name\n",
        "    \n",
        "    def add_hook(self, hook, dir='fwd'):\n",
        "        # Hook format is fn(activation, hook_name)\n",
        "        # Change it into PyTorch hook format (this includes input and output, \n",
        "        # which are the same for a HookPoint)\n",
        "        def full_hook(module, module_input, module_output):\n",
        "            return hook(module_output, name=self.name)\n",
        "        if dir=='fwd':\n",
        "            handle = self.register_forward_hook(full_hook)\n",
        "            self.fwd_hooks.append(handle)\n",
        "        elif dir=='bwd':\n",
        "            handle = self.register_backward_hook(full_hook)\n",
        "            self.bwd_hooks.append(handle)\n",
        "        else:\n",
        "            raise ValueError(f\"Invalid direction {dir}\")\n",
        "    \n",
        "    def remove_hooks(self, dir='fwd'):\n",
        "        if (dir=='fwd') or (dir=='both'):\n",
        "            for hook in self.fwd_hooks:\n",
        "                hook.remove()\n",
        "            self.fwd_hooks = []\n",
        "        if (dir=='bwd') or (dir=='both'):\n",
        "            for hook in self.bwd_hooks:\n",
        "                hook.remove()\n",
        "            self.bwd_hooks = []\n",
        "        if dir not in ['fwd', 'bwd', 'both']:\n",
        "            raise ValueError(f\"Invalid direction {dir}\")\n",
        "    \n",
        "    def forward(self, x):\n",
        "        return x\n"
      ]
    },
    {
      "cell_type": "code",
      "execution_count": null,
      "metadata": {
        "id": "sllXqr_tGdmI"
      },
      "outputs": [],
      "source": [
        "# Embed & Unembed\n",
        "class Embed(nn.Module):\n",
        "    def __init__(self, d_vocab, d_model):\n",
        "        super().__init__()\n",
        "        self.W_E = nn.Parameter(torch.randn(d_model, d_vocab)/np.sqrt(d_model))\n",
        "    \n",
        "    def forward(self, x):\n",
        "        return torch.einsum('dbp -> bpd', self.W_E[:, x])\n",
        "\n",
        "class Unembed(nn.Module):\n",
        "    def __init__(self, d_vocab, d_model):\n",
        "        super().__init__()\n",
        "        self.W_U = nn.Parameter(torch.randn(d_model, d_vocab)/np.sqrt(d_vocab))\n",
        "    \n",
        "    def forward(self, x):\n",
        "        return (x @ self.W_U)\n",
        "\n",
        "# Positional Embeddings\n",
        "class PosEmbed(nn.Module):\n",
        "    def __init__(self, max_ctx, d_model):\n",
        "        super().__init__()\n",
        "        self.W_pos = nn.Parameter(torch.randn(max_ctx, d_model)/np.sqrt(d_model))\n",
        "    \n",
        "    def forward(self, x):\n",
        "        return x+self.W_pos[:x.shape[-2]]\n",
        "\n",
        "# LayerNorm\n",
        "class LayerNorm(nn.Module):\n",
        "    def __init__(self, d_model, epsilon = 1e-4, model=[None]):\n",
        "        super().__init__()\n",
        "        self.model = model\n",
        "        self.w_ln = nn.Parameter(torch.ones(d_model))\n",
        "        self.b_ln = nn.Parameter(torch.zeros(d_model))\n",
        "        self.epsilon = epsilon\n",
        "    \n",
        "    def forward(self, x):\n",
        "        if self.model[0].use_ln:\n",
        "            x = x - x.mean(axis=-1)[..., None]\n",
        "            x = x / (x.std(axis=-1)[..., None] + self.epsilon)\n",
        "            x = x * self.w_ln\n",
        "            x = x + self.b_ln\n",
        "            return x\n",
        "        else:\n",
        "            return x\n",
        "\n",
        "# Attention\n",
        "class Attention(nn.Module):\n",
        "    def __init__(self, d_model, num_heads, d_head, n_ctx, model):\n",
        "        super().__init__()\n",
        "        self.model = model\n",
        "        self.W_K = nn.Parameter(torch.randn(num_heads, d_head, d_model)/np.sqrt(d_model))\n",
        "        self.W_Q = nn.Parameter(torch.randn(num_heads, d_head, d_model)/np.sqrt(d_model))\n",
        "        self.W_V = nn.Parameter(torch.randn(num_heads, d_head, d_model)/np.sqrt(d_model))\n",
        "        self.W_O = nn.Parameter(torch.randn(d_model, d_head * num_heads)/np.sqrt(d_model))\n",
        "        self.register_buffer('mask', torch.tril(torch.ones((n_ctx, n_ctx))))\n",
        "        self.d_head = d_head\n",
        "        self.hook_k = HookPoint()\n",
        "        self.hook_q = HookPoint()\n",
        "        self.hook_v = HookPoint()\n",
        "        self.hook_z = HookPoint()\n",
        "        self.hook_attn = HookPoint()\n",
        "        self.hook_attn_pre = HookPoint()\n",
        "\n",
        "    def forward(self, x):\n",
        "        k = self.hook_k(torch.einsum('ihd,bpd->biph', self.W_K, x))\n",
        "        q = self.hook_q(torch.einsum('ihd,bpd->biph', self.W_Q, x))\n",
        "        v = self.hook_v(torch.einsum('ihd,bpd->biph', self.W_V, x))\n",
        "        attn_scores_pre = torch.einsum('biph,biqh->biqp', k, q)\n",
        "        attn_scores_masked = torch.tril(attn_scores_pre) - 1e10 * (1 - self.mask[:x.shape[-2], :x.shape[-2]])\n",
        "        attn_matrix = self.hook_attn(F.softmax(self.hook_attn_pre(attn_scores_masked/np.sqrt(self.d_head)), dim=-1))\n",
        "        z = self.hook_z(torch.einsum('biph,biqp->biqh', v, attn_matrix))\n",
        "        z_flat = einops.rearrange(z, 'b i q h -> b q (i h)')\n",
        "        out = torch.einsum('df,bqf->bqd', self.W_O, z_flat)\n",
        "        return out\n",
        "\n",
        "# MLP Layers\n",
        "class MLP(nn.Module):\n",
        "    def __init__(self, d_model, d_mlp, act_type, model):\n",
        "        super().__init__()\n",
        "        self.model = model\n",
        "        self.W_in = nn.Parameter(torch.randn(d_mlp, d_model)/np.sqrt(d_model))\n",
        "        self.b_in = nn.Parameter(torch.zeros(d_mlp))\n",
        "        self.W_out = nn.Parameter(torch.randn(d_model, d_mlp)/np.sqrt(d_model))\n",
        "        self.b_out = nn.Parameter(torch.zeros(d_model))\n",
        "        self.act_type = act_type\n",
        "        # self.ln = LayerNorm(d_mlp, model=self.model)\n",
        "        self.hook_pre = HookPoint()\n",
        "        self.hook_post = HookPoint()\n",
        "        assert act_type in ['ReLU', 'GeLU']\n",
        "        \n",
        "    def forward(self, x):\n",
        "        x = self.hook_pre(torch.einsum('md,bpd->bpm', self.W_in, x) + self.b_in)\n",
        "        if self.act_type=='ReLU':\n",
        "            x = F.relu(x)\n",
        "        elif self.act_type=='GeLU':\n",
        "            x = F.gelu(x)\n",
        "        x = self.hook_post(x)\n",
        "        x = torch.einsum('dm,bpm->bpd', self.W_out, x) + self.b_out\n",
        "        return x\n",
        "\n",
        "# Transformer Block\n",
        "class TransformerBlock(nn.Module):\n",
        "    def __init__(self, d_model, d_mlp, d_head, num_heads, n_ctx, act_type, model):\n",
        "        super().__init__()\n",
        "        self.model = model\n",
        "        # self.ln1 = LayerNorm(d_model, model=self.model)\n",
        "        self.attn = Attention(d_model, num_heads, d_head, n_ctx, model=self.model)\n",
        "        # self.ln2 = LayerNorm(d_model, model=self.model)\n",
        "        self.mlp = MLP(d_model, d_mlp, act_type, model=self.model)\n",
        "        self.hook_attn_out = HookPoint()\n",
        "        self.hook_mlp_out = HookPoint()\n",
        "        self.hook_resid_pre = HookPoint()\n",
        "        self.hook_resid_mid = HookPoint()\n",
        "        self.hook_resid_post = HookPoint()\n",
        "    \n",
        "    def forward(self, x):\n",
        "        x = self.hook_resid_mid(x + self.hook_attn_out(self.attn((self.hook_resid_pre(x)))))\n",
        "        x = self.hook_resid_post(x + self.hook_mlp_out(self.mlp((x))))\n",
        "        return x\n",
        "\n",
        "# Full transformer\n",
        "class Transformer(nn.Module):\n",
        "    def __init__(self, num_layers, d_vocab, d_model, d_mlp, d_head, num_heads, n_ctx, act_type, use_cache=False, use_ln=True):\n",
        "        super().__init__()\n",
        "        self.cache = {}\n",
        "        self.use_cache = use_cache\n",
        "\n",
        "        self.embed = Embed(d_vocab, d_model)\n",
        "        self.pos_embed = PosEmbed(n_ctx, d_model)\n",
        "        self.blocks = nn.ModuleList([TransformerBlock(d_model, d_mlp, d_head, num_heads, n_ctx, act_type, model=[self]) for i in range(num_layers)])\n",
        "        # self.ln = LayerNorm(d_model, model=[self])\n",
        "        self.unembed = Unembed(d_vocab, d_model)\n",
        "        self.use_ln = use_ln\n",
        "\n",
        "        for name, module in self.named_modules():\n",
        "            if type(module)==HookPoint:\n",
        "                module.give_name(name)\n",
        "    \n",
        "    def forward(self, x):\n",
        "        x = self.embed(x)\n",
        "        x = self.pos_embed(x)\n",
        "        for block in self.blocks:\n",
        "            x = block(x)\n",
        "        # x = self.ln(x)\n",
        "        x = self.unembed(x)\n",
        "        return x\n",
        "\n",
        "    def set_use_cache(self, use_cache):\n",
        "        self.use_cache = use_cache\n",
        "    \n",
        "    def hook_points(self):\n",
        "        return [module for name, module in self.named_modules() if 'hook' in name]\n",
        "\n",
        "    def remove_all_hooks(self):\n",
        "        for hp in self.hook_points():\n",
        "            hp.remove_hooks('fwd')\n",
        "            hp.remove_hooks('bwd')\n",
        "    \n",
        "    def cache_all(self, cache, incl_bwd=False):\n",
        "        # Caches all activations wrapped in a HookPoint\n",
        "        def save_hook(tensor, name):\n",
        "            cache[name] = tensor.detach()\n",
        "        def save_hook_back(tensor, name):\n",
        "            cache[name+'_grad'] = tensor[0].detach()\n",
        "        for hp in self.hook_points():\n",
        "            hp.add_hook(save_hook, 'fwd')\n",
        "            if incl_bwd:\n",
        "                hp.add_hook(save_hook_back, 'bwd')"
      ]
    },
    {
      "cell_type": "markdown",
      "metadata": {
        "id": "G90QwHKiGddr"
      },
      "source": [
        "### Baseline training run"
      ]
    },
    {
      "cell_type": "code",
      "source": [
        "def full_loss(model, data, device):\n",
        "    loader = torch.utils.data.DataLoader(data, batch_size=len(data), shuffle=False)\n",
        "    # Take the final position only\n",
        "    x, labels = next(iter(loader))\n",
        "    x = x.to(device)\n",
        "    labels = labels.to(device)\n",
        "    logits = model(x)[:, -1]\n",
        "    return torch.nn.functional.cross_entropy(logits, labels)\n",
        "\n",
        "def full_accuracy(model, data, device):\n",
        "    loader = torch.utils.data.DataLoader(data, batch_size=len(data), shuffle=False)\n",
        "    # Take the final position only\n",
        "    x, labels = next(iter(loader))\n",
        "    x = x.to(device)\n",
        "    labels = labels.to(device)\n",
        "    logits = model(x)[:, -1]\n",
        "    predictions = torch.argmax(logits, dim=1)\n",
        "    return torch.sum(predictions == labels).item() / len(labels)"
      ],
      "metadata": {
        "id": "Z7mKIz7daP0y"
      },
      "execution_count": null,
      "outputs": []
    },
    {
      "cell_type": "code",
      "execution_count": null,
      "metadata": {
        "id": "JQnr1eRwJiXr"
      },
      "outputs": [],
      "source": [
        "seed = 42\n",
        "p = 113\n",
        "fraction = 0.3"
      ]
    },
    {
      "cell_type": "code",
      "execution_count": null,
      "metadata": {
        "colab": {
          "base_uri": "https://localhost:8080/"
        },
        "id": "03ZrmDE0GdU1",
        "outputId": "d74b1d83-6bdc-491d-c2ed-21a114850d80"
      },
      "outputs": [
        {
          "output_type": "stream",
          "name": "stdout",
          "text": [
            "Using cuda:0\n"
          ]
        }
      ],
      "source": [
        "torch.manual_seed(seed)\n",
        "torch.cuda.manual_seed(seed)\n",
        "\n",
        "device = 'cuda:0' if torch.cuda.is_available() else 'cpu'\n",
        "torch.set_default_dtype(torch.float64)\n",
        "print(f\"Using {device}\")"
      ]
    },
    {
      "cell_type": "code",
      "execution_count": null,
      "metadata": {
        "id": "QRJ-vWyaGUGw"
      },
      "outputs": [],
      "source": [
        "equals_token = p\n",
        "x, y = torch.meshgrid(torch.arange(p), torch.arange(p), indexing='ij')\n",
        "x = x.flatten()\n",
        "y = y.flatten()\n",
        "# plus = torch.ones(x.shape, dtype=torch.int64) * plus_token\n",
        "equals = torch.ones(x.shape, dtype=torch.int64) * equals_token\n",
        "prompts = torch.stack([x, y, equals], dim=1).to(device)\n",
        "answers = ((x + y) % p).to(device)\n",
        "\n",
        "data = torch.utils.data.TensorDataset(prompts, answers)\n",
        "train, test = torch.utils.data.random_split(data, \n",
        "                                [int(fraction * len(data)),\n",
        "                                len(data) - int(fraction * len(data))\n",
        "                                ])\n",
        "\n",
        "model = Transformer(num_layers=1, \n",
        "                    d_vocab=equals_token+1, \n",
        "                    d_model=128,\n",
        "                    d_mlp=512,\n",
        "                    d_head=32,\n",
        "                    num_heads=4,\n",
        "                    n_ctx=3, # context length\n",
        "                    act_type='ReLU', \n",
        "                    use_cache=False, \n",
        "                    use_ln=False # use LayerNorm\n",
        "                ).to(device)"
      ]
    },
    {
      "cell_type": "code",
      "source": [
        "optimizer = torch.optim.AdamW(model.parameters(), lr=1e-3, weight_decay=1.0, betas=(0.9, 0.98))\n",
        "log_steps = []\n",
        "train_losses = []\n",
        "test_losses = []\n",
        "train_accuracies = []\n",
        "test_accuracies = []\n",
        "norms = []\n",
        "for epoch in tqdm(range(15000)):\n",
        "    train_loss = full_loss(model, train, device)\n",
        "    if epoch % 30 == 0:\n",
        "        with torch.no_grad():\n",
        "            log_steps.append(epoch)\n",
        "            test_loss = full_loss(model, test, device)\n",
        "            train_losses.append(train_loss.item())\n",
        "            test_losses.append(test_loss.item())\n",
        "            train_accuracies.append(full_accuracy(model, train, device))\n",
        "            test_accuracies.append(full_accuracy(model, test, device))\n",
        "            norms.append(np.sqrt(sum(param.pow(2).sum().item() for param in model.parameters())))\n",
        "    train_loss.backward()\n",
        "    optimizer.step()\n",
        "    optimizer.zero_grad()\n"
      ],
      "metadata": {
        "colab": {
          "base_uri": "https://localhost:8080/",
          "height": 49,
          "referenced_widgets": [
            "3e1bc6726f1f47b881ad6aa5ced45e4b",
            "d20e8828ad17441abef44c9ad946df89",
            "efa5bf2a03944a22955d15cad40a6a75",
            "1d73102ea3604a3b8a0ba755637fe04e",
            "ca6cdc92bf02437a8ef3f227456c0e97",
            "2974d9aea2144eee8d7ed2e6bbeed41c",
            "02c6b80d850b4600ae629cca9144da77",
            "cc468b86c408462ba41213c1bae8bb63",
            "bd1bd8e911c24bcfb68102adeb1b9a8a",
            "ce0573acf7a047a08c2b48cb8b7fefc9",
            "6a4f53ddaa894270b8dccd920c86c701"
          ]
        },
        "id": "CC5KZfFeDTYp",
        "outputId": "15403ef3-6fe5-4267-9a23-309e6562c5d2"
      },
      "execution_count": null,
      "outputs": [
        {
          "output_type": "display_data",
          "data": {
            "text/plain": [
              "  0%|          | 0/15000 [00:00<?, ?it/s]"
            ],
            "application/vnd.jupyter.widget-view+json": {
              "version_major": 2,
              "version_minor": 0,
              "model_id": "3e1bc6726f1f47b881ad6aa5ced45e4b"
            }
          },
          "metadata": {}
        }
      ]
    },
    {
      "cell_type": "code",
      "source": [
        "ax = plt.subplot(1, 1, 1)\n",
        "plt.plot(log_steps, train_accuracies, color='red', label='train')\n",
        "plt.plot(log_steps, test_accuracies, color='green', label='test')\n",
        "plt.legend()\n",
        "plt.xlabel(\"Optimization Steps\")\n",
        "plt.xlim(8, 2*10**4)\n",
        "ax.set_ylabel(\"Accuracy\")\n",
        "ax2 = ax.twinx()\n",
        "ax2.set_ylabel(\"Weight Norm\", color='purple')\n",
        "ax2.plot(log_steps, norms, color='purple', label='weight norm')\n",
        "ax2.set_ylim(27, 63)\n",
        "plt.xscale('log')\n",
        "plt.legend(loc=(0.015, 0.72))\n",
        "plt.title(\"1L Transformer on Modular Addition (p=113)\\nUnconstrained Optimization, Standard Initialization\", fontsize=11)\n",
        "plt.tight_layout()\n"
      ],
      "metadata": {
        "colab": {
          "base_uri": "https://localhost:8080/",
          "height": 297
        },
        "id": "g4BOwvlgDTQX",
        "outputId": "4913f54f-98fd-4fde-a7c0-be884dd7776b"
      },
      "execution_count": null,
      "outputs": [
        {
          "output_type": "display_data",
          "data": {
            "text/plain": [
              "<Figure size 432x288 with 2 Axes>"
            ],
            "image/png": "[encoded data removed]"
          },
          "metadata": {
            "needs_background": "light"
          }
        }
      ]
    },
    {
      "cell_type": "markdown",
      "source": [
        "The L2 norm of the model's trainable parameters (viewed as a big vector in parameter space) increases when the model overfits, but then decreases when the model generalizes, finishing below the norm of the parameters at initialization! Neel Nanda observed this behavior in [this section of his notebook](https://colab.research.google.com/drive/1F6_1_cWXE5M7WocUcpQWp3v8z4b1jL20#scrollTo=BMOjY3pTjQkA), describing the decrease in weight norm as the model \"cleaning up\" parts of the network that were previously used to memorize, leaving behind circuits which generalize nicely.\n",
        "\n",
        "Next we'll do something weird, which is (1) to rescale the initial model parameters down by 0.8x and (2) constrain the optimization so that weight norm is constant throughout training. We constrain optimization by, at each step of training, simply taking an optimizer (Adam) step, but then multiplying all the parameters by (initial norm / new norm), projecting us back onto the constant-norm hypersphere in parameter space."
      ],
      "metadata": {
        "id": "1EvmqfmVVrSF"
      }
    },
    {
      "cell_type": "markdown",
      "source": [
        "### Constrained training run"
      ],
      "metadata": {
        "id": "BQUtDV2vaLyR"
      }
    },
    {
      "cell_type": "code",
      "execution_count": null,
      "metadata": {
        "id": "iYHzF8RIaWQz"
      },
      "outputs": [],
      "source": [
        "seed = 42\n",
        "p = 113\n",
        "fraction = 0.3"
      ]
    },
    {
      "cell_type": "code",
      "execution_count": null,
      "metadata": {
        "colab": {
          "base_uri": "https://localhost:8080/"
        },
        "outputId": "0ecd1e53-b009-4ff3-c1a7-1e2f0ce9a301",
        "id": "ziiIhbMVaWQ0"
      },
      "outputs": [
        {
          "output_type": "stream",
          "name": "stdout",
          "text": [
            "Using cuda:0\n"
          ]
        }
      ],
      "source": [
        "torch.manual_seed(seed)\n",
        "torch.cuda.manual_seed(seed)\n",
        "\n",
        "device = 'cuda:0' if torch.cuda.is_available() else 'cpu'\n",
        "torch.set_default_dtype(torch.float64)\n",
        "print(f\"Using {device}\")"
      ]
    },
    {
      "cell_type": "code",
      "execution_count": null,
      "metadata": {
        "id": "MbPmKVfjaWQ1"
      },
      "outputs": [],
      "source": [
        "equals_token = p\n",
        "x, y = torch.meshgrid(torch.arange(p), torch.arange(p), indexing='ij')\n",
        "x = x.flatten()\n",
        "y = y.flatten()\n",
        "# plus = torch.ones(x.shape, dtype=torch.int64) * plus_token\n",
        "equals = torch.ones(x.shape, dtype=torch.int64) * equals_token\n",
        "prompts = torch.stack([x, y, equals], dim=1).to(device)\n",
        "answers = ((x + y) % p).to(device)\n",
        "\n",
        "data = torch.utils.data.TensorDataset(prompts, answers)\n",
        "train, test = torch.utils.data.random_split(data, \n",
        "                                [int(fraction * len(data)),\n",
        "                                len(data) - int(fraction * len(data))\n",
        "                                ])\n",
        "\n",
        "model = Transformer(num_layers=1, \n",
        "                    d_vocab=equals_token+1, \n",
        "                    d_model=128,\n",
        "                    d_mlp=512,\n",
        "                    d_head=32,\n",
        "                    num_heads=4,\n",
        "                    n_ctx=3, # context length\n",
        "                    act_type='ReLU', \n",
        "                    use_cache=False, \n",
        "                    use_ln=False # use LayerNorm\n",
        "                ).to(device)"
      ]
    },
    {
      "cell_type": "code",
      "source": [
        "alpha = 0.8\n",
        "with torch.no_grad():\n",
        "    for param in model.parameters():\n",
        "        param.data *= alpha\n",
        "    norm = np.sqrt(sum(param.pow(2).sum().item() for param in model.parameters()))"
      ],
      "metadata": {
        "id": "fwuKi4WsasDV"
      },
      "execution_count": null,
      "outputs": []
    },
    {
      "cell_type": "code",
      "source": [
        "optimizer = torch.optim.AdamW(model.parameters(), lr=1e-3, weight_decay=0.0, betas=(0.9, 0.98))\n",
        "log_steps = []\n",
        "train_losses = []\n",
        "test_losses = []\n",
        "train_accuracies = []\n",
        "test_accuracies = []\n",
        "norms = []\n",
        "for epoch in tqdm(range(15000)):\n",
        "    train_loss = full_loss(model, train, device)\n",
        "    if epoch % 10 == 0:\n",
        "        with torch.no_grad():\n",
        "            log_steps.append(epoch)\n",
        "            test_loss = full_loss(model, test, device)\n",
        "            train_losses.append(train_loss.item())\n",
        "            test_losses.append(test_loss.item())\n",
        "            train_accuracies.append(full_accuracy(model, train, device))\n",
        "            test_accuracies.append(full_accuracy(model, test, device))\n",
        "            norms.append(np.sqrt(sum(param.pow(2).sum().item() for param in model.parameters())))\n",
        "    train_loss.backward()\n",
        "    optimizer.step()\n",
        "    with torch.no_grad():\n",
        "        new_norm = np.sqrt(sum(param.pow(2).sum().item() for param in model.parameters()))\n",
        "        for param in model.parameters():\n",
        "            param.data *= norm / new_norm\n",
        "    optimizer.zero_grad()\n"
      ],
      "metadata": {
        "colab": {
          "base_uri": "https://localhost:8080/",
          "height": 49,
          "referenced_widgets": [
            "7d9362f73ace4ff580aa60a039a6f158",
            "cc8804d2841c4aa9ad7c495e3a56bf71",
            "f54c41b7b56a42bd88c53ed78bf8b2ac",
            "94d573e34c6243808de8194e863c2c1a",
            "10926d746b3b4ad285107f5572e0ea9a",
            "03cb8fb6bd764acb9ebf7ed21af23a33",
            "1e01c0f7b9204a93a47d24a895ed87f7",
            "5e67e786f26e4ea28e17fa1f4428f551",
            "c32cc7e35ba84058bb62b8066dece340",
            "5b62c8dbb20c46779449d92cf4d7fde3",
            "67b5709eccce448d88733422963e78f6"
          ]
        },
        "outputId": "979985d7-3247-4c0d-d014-defc6feb4a6a",
        "id": "49nroMZcaWQ1"
      },
      "execution_count": null,
      "outputs": [
        {
          "output_type": "display_data",
          "data": {
            "text/plain": [
              "  0%|          | 0/15000 [00:00<?, ?it/s]"
            ],
            "application/vnd.jupyter.widget-view+json": {
              "version_major": 2,
              "version_minor": 0,
              "model_id": "7d9362f73ace4ff580aa60a039a6f158"
            }
          },
          "metadata": {}
        }
      ]
    },
    {
      "cell_type": "code",
      "source": [
        "ax = plt.subplot(1, 1, 1)\n",
        "plt.plot(log_steps, train_accuracies, color='red', label='train')\n",
        "plt.plot(log_steps, test_accuracies, color='green', label='test')\n",
        "plt.legend()\n",
        "plt.xlabel(\"Optimization Steps\")\n",
        "plt.xlim(8, 2*10**4)\n",
        "ax.set_ylabel(\"Accuracy\")\n",
        "ax2 = ax.twinx()\n",
        "ax2.set_ylabel(\"Weight Norm\", color='purple')\n",
        "ax2.plot(log_steps, norms, color='purple', label='weight norm')\n",
        "ax2.set_ylim(27, 63)\n",
        "plt.xscale('log')\n",
        "plt.legend(loc=(0.015, 0.72))\n",
        "plt.title(\"1L Transformer on Modular Addition (p=113)\\nConstrained Norm α = 0.8\", fontsize=11)\n",
        "plt.tight_layout()"
      ],
      "metadata": {
        "colab": {
          "base_uri": "https://localhost:8080/",
          "height": 297
        },
        "id": "mUEhc9dgUE8n",
        "outputId": "b4938078-2182-4273-8f63-47a2e599edcf"
      },
      "execution_count": null,
      "outputs": [
        {
          "output_type": "display_data",
          "data": {
            "text/plain": [
              "<Figure size 432x288 with 2 Axes>"
            ],
            "image/png": "[encoded data removed]"
          },
          "metadata": {
            "needs_background": "light"
          }
        }
      ]
    },
    {
      "cell_type": "code",
      "source": [
        "# LINEAR X-AXIS SCALE\n",
        "\n",
        "time_to_100_pct_train = log_steps[min(i for i, acc in enumerate(train_accuracies) if acc == 1.0)]\n",
        "time_to_95_pct_train = log_steps[min(i for i, acc in enumerate(train_accuracies) if acc >= 0.95)]\n",
        "\n",
        "ax = plt.subplot(1, 1, 1)\n",
        "plt.plot(log_steps, train_accuracies, color='red', label='train')\n",
        "plt.plot(log_steps, test_accuracies, color='green', label='test')\n",
        "plt.legend()\n",
        "plt.xlabel(\"Optimization Steps\")\n",
        "plt.xlim(8, 500)\n",
        "\n",
        "plt.plot([time_to_95_pct_train]*2, [0, 1], color='black', linestyle='dotted')\n",
        "plt.text(time_to_95_pct_train+10, 0.35, \"train acc\\nhits 95%\")\n",
        "\n",
        "plt.plot([time_to_100_pct_train]*2, [0, 1], color='black', linestyle='dotted')\n",
        "plt.text(time_to_100_pct_train+10, 0.65, \"train acc\\nhits 100%\")\n",
        "ax.set_ylabel(\"Accuracy\")\n",
        "\n",
        "ax2 = ax.twinx()\n",
        "ax2.set_ylabel(\"Weight Norm\", color='purple')\n",
        "ax2.plot(log_steps, norms, color='purple', label='weight norm')\n",
        "ax2.set_ylim(27, 63)\n",
        "plt.legend(loc=(0.015, 0.72))\n",
        "plt.title(\"1L Transformer on Modular Addition (p=113)\\nConstrained Norm α = 0.8\", fontsize=11)\n",
        "plt.tight_layout()"
      ],
      "metadata": {
        "id": "KtcWGGUUUE1M",
        "colab": {
          "base_uri": "https://localhost:8080/",
          "height": 297
        },
        "outputId": "a997f29d-117b-444f-fb29-2824957252e0"
      },
      "execution_count": null,
      "outputs": [
        {
          "output_type": "display_data",
          "data": {
            "text/plain": [
              "<Figure size 432x288 with 2 Axes>"
            ],
            "image/png": "[encoded data removed]"
          },
          "metadata": {
            "needs_background": "light"
          }
        }
      ]
    },
    {
      "cell_type": "markdown",
      "source": [
        " The train and test curves are still distinct, but constraining weight norm brings the train and test curves quite close together, especially relative to the gap of 1000s of steps for the baseline run! I haven't yet figured out the exactly optimal α for de-grokking training, but dropping α too low prevents the network from even fitting the train set. A higher α de-groks less effectively, bringing test loss in, just not as much."
      ],
      "metadata": {
        "id": "l6cv2UyKq3E6"
      }
    },
    {
      "cell_type": "code",
      "source": [],
      "metadata": {
        "id": "hSHH1VO0q288"
      },
      "execution_count": null,
      "outputs": []
    }
  ],
  "metadata": {
    "accelerator": "GPU",
    "colab": {
      "provenance": [],
      "collapsed_sections": [
        "r2HgOcrFGd4E"
      ]
    },
    "gpuClass": "premium",
    "kernelspec": {
      "display_name": "Python 3",
      "name": "python3"
    },
    "language_info": {
      "name": "python"
    },
    "widgets": {
      "application/vnd.jupyter.widget-state+json": {
        "3e1bc6726f1f47b881ad6aa5ced45e4b": {
          "model_module": "@jupyter-widgets/controls",
          "model_name": "HBoxModel",
          "model_module_version": "1.5.0",
          "state": {
            "_dom_classes": [],
            "_model_module": "@jupyter-widgets/controls",
            "_model_module_version": "1.5.0",
            "_model_name": "HBoxModel",
            "_view_count": null,
            "_view_module": "@jupyter-widgets/controls",
            "_view_module_version": "1.5.0",
            "_view_name": "HBoxView",
            "box_style": "",
            "children": [
              "IPY_MODEL_d20e8828ad17441abef44c9ad946df89",
              "IPY_MODEL_efa5bf2a03944a22955d15cad40a6a75",
              "IPY_MODEL_1d73102ea3604a3b8a0ba755637fe04e"
            ],
            "layout": "IPY_MODEL_ca6cdc92bf02437a8ef3f227456c0e97"
          }
        },
        "d20e8828ad17441abef44c9ad946df89": {
          "model_module": "@jupyter-widgets/controls",
          "model_name": "HTMLModel",
          "model_module_version": "1.5.0",
          "state": {
            "_dom_classes": [],
            "_model_module": "@jupyter-widgets/controls",
            "_model_module_version": "1.5.0",
            "_model_name": "HTMLModel",
            "_view_count": null,
            "_view_module": "@jupyter-widgets/controls",
            "_view_module_version": "1.5.0",
            "_view_name": "HTMLView",
            "description": "",
            "description_tooltip": null,
            "layout": "IPY_MODEL_2974d9aea2144eee8d7ed2e6bbeed41c",
            "placeholder": "​",
            "style": "IPY_MODEL_02c6b80d850b4600ae629cca9144da77",
            "value": "100%"
          }
        },
        "efa5bf2a03944a22955d15cad40a6a75": {
          "model_module": "@jupyter-widgets/controls",
          "model_name": "FloatProgressModel",
          "model_module_version": "1.5.0",
          "state": {
            "_dom_classes": [],
            "_model_module": "@jupyter-widgets/controls",
            "_model_module_version": "1.5.0",
            "_model_name": "FloatProgressModel",
            "_view_count": null,
            "_view_module": "@jupyter-widgets/controls",
            "_view_module_version": "1.5.0",
            "_view_name": "ProgressView",
            "bar_style": "success",
            "description": "",
            "description_tooltip": null,
            "layout": "IPY_MODEL_cc468b86c408462ba41213c1bae8bb63",
            "max": 15000,
            "min": 0,
            "orientation": "horizontal",
            "style": "IPY_MODEL_bd1bd8e911c24bcfb68102adeb1b9a8a",
            "value": 15000
          }
        },
        "1d73102ea3604a3b8a0ba755637fe04e": {
          "model_module": "@jupyter-widgets/controls",
          "model_name": "HTMLModel",
          "model_module_version": "1.5.0",
          "state": {
            "_dom_classes": [],
            "_model_module": "@jupyter-widgets/controls",
            "_model_module_version": "1.5.0",
            "_model_name": "HTMLModel",
            "_view_count": null,
            "_view_module": "@jupyter-widgets/controls",
            "_view_module_version": "1.5.0",
            "_view_name": "HTMLView",
            "description": "",
            "description_tooltip": null,
            "layout": "IPY_MODEL_ce0573acf7a047a08c2b48cb8b7fefc9",
            "placeholder": "​",
            "style": "IPY_MODEL_6a4f53ddaa894270b8dccd920c86c701",
            "value": " 15000/15000 [30:16&lt;00:00,  8.91it/s]"
          }
        },
        "ca6cdc92bf02437a8ef3f227456c0e97": {
          "model_module": "@jupyter-widgets/base",
          "model_name": "LayoutModel",
          "model_module_version": "1.2.0",
          "state": {
            "_model_module": "@jupyter-widgets/base",
            "_model_module_version": "1.2.0",
            "_model_name": "LayoutModel",
            "_view_count": null,
            "_view_module": "@jupyter-widgets/base",
            "_view_module_version": "1.2.0",
            "_view_name": "LayoutView",
            "align_content": null,
            "align_items": null,
            "align_self": null,
            "border": null,
            "bottom": null,
            "display": null,
            "flex": null,
            "flex_flow": null,
            "grid_area": null,
            "grid_auto_columns": null,
            "grid_auto_flow": null,
            "grid_auto_rows": null,
            "grid_column": null,
            "grid_gap": null,
            "grid_row": null,
            "grid_template_areas": null,
            "grid_template_columns": null,
            "grid_template_rows": null,
            "height": null,
            "justify_content": null,
            "justify_items": null,
            "left": null,
            "margin": null,
            "max_height": null,
            "max_width": null,
            "min_height": null,
            "min_width": null,
            "object_fit": null,
            "object_position": null,
            "order": null,
            "overflow": null,
            "overflow_x": null,
            "overflow_y": null,
            "padding": null,
            "right": null,
            "top": null,
            "visibility": null,
            "width": null
          }
        },
        "2974d9aea2144eee8d7ed2e6bbeed41c": {
          "model_module": "@jupyter-widgets/base",
          "model_name": "LayoutModel",
          "model_module_version": "1.2.0",
          "state": {
            "_model_module": "@jupyter-widgets/base",
            "_model_module_version": "1.2.0",
            "_model_name": "LayoutModel",
            "_view_count": null,
            "_view_module": "@jupyter-widgets/base",
            "_view_module_version": "1.2.0",
            "_view_name": "LayoutView",
            "align_content": null,
            "align_items": null,
            "align_self": null,
            "border": null,
            "bottom": null,
            "display": null,
            "flex": null,
            "flex_flow": null,
            "grid_area": null,
            "grid_auto_columns": null,
            "grid_auto_flow": null,
            "grid_auto_rows": null,
            "grid_column": null,
            "grid_gap": null,
            "grid_row": null,
            "grid_template_areas": null,
            "grid_template_columns": null,
            "grid_template_rows": null,
            "height": null,
            "justify_content": null,
            "justify_items": null,
            "left": null,
            "margin": null,
            "max_height": null,
            "max_width": null,
            "min_height": null,
            "min_width": null,
            "object_fit": null,
            "object_position": null,
            "order": null,
            "overflow": null,
            "overflow_x": null,
            "overflow_y": null,
            "padding": null,
            "right": null,
            "top": null,
            "visibility": null,
            "width": null
          }
        },
        "02c6b80d850b4600ae629cca9144da77": {
          "model_module": "@jupyter-widgets/controls",
          "model_name": "DescriptionStyleModel",
          "model_module_version": "1.5.0",
          "state": {
            "_model_module": "@jupyter-widgets/controls",
            "_model_module_version": "1.5.0",
            "_model_name": "DescriptionStyleModel",
            "_view_count": null,
            "_view_module": "@jupyter-widgets/base",
            "_view_module_version": "1.2.0",
            "_view_name": "StyleView",
            "description_width": ""
          }
        },
        "cc468b86c408462ba41213c1bae8bb63": {
          "model_module": "@jupyter-widgets/base",
          "model_name": "LayoutModel",
          "model_module_version": "1.2.0",
          "state": {
            "_model_module": "@jupyter-widgets/base",
            "_model_module_version": "1.2.0",
            "_model_name": "LayoutModel",
            "_view_count": null,
            "_view_module": "@jupyter-widgets/base",
            "_view_module_version": "1.2.0",
            "_view_name": "LayoutView",
            "align_content": null,
            "align_items": null,
            "align_self": null,
            "border": null,
            "bottom": null,
            "display": null,
            "flex": null,
            "flex_flow": null,
            "grid_area": null,
            "grid_auto_columns": null,
            "grid_auto_flow": null,
            "grid_auto_rows": null,
            "grid_column": null,
            "grid_gap": null,
            "grid_row": null,
            "grid_template_areas": null,
            "grid_template_columns": null,
            "grid_template_rows": null,
            "height": null,
            "justify_content": null,
            "justify_items": null,
            "left": null,
            "margin": null,
            "max_height": null,
            "max_width": null,
            "min_height": null,
            "min_width": null,
            "object_fit": null,
            "object_position": null,
            "order": null,
            "overflow": null,
            "overflow_x": null,
            "overflow_y": null,
            "padding": null,
            "right": null,
            "top": null,
            "visibility": null,
            "width": null
          }
        },
        "bd1bd8e911c24bcfb68102adeb1b9a8a": {
          "model_module": "@jupyter-widgets/controls",
          "model_name": "ProgressStyleModel",
          "model_module_version": "1.5.0",
          "state": {
            "_model_module": "@jupyter-widgets/controls",
            "_model_module_version": "1.5.0",
            "_model_name": "ProgressStyleModel",
            "_view_count": null,
            "_view_module": "@jupyter-widgets/base",
            "_view_module_version": "1.2.0",
            "_view_name": "StyleView",
            "bar_color": null,
            "description_width": ""
          }
        },
        "ce0573acf7a047a08c2b48cb8b7fefc9": {
          "model_module": "@jupyter-widgets/base",
          "model_name": "LayoutModel",
          "model_module_version": "1.2.0",
          "state": {
            "_model_module": "@jupyter-widgets/base",
            "_model_module_version": "1.2.0",
            "_model_name": "LayoutModel",
            "_view_count": null,
            "_view_module": "@jupyter-widgets/base",
            "_view_module_version": "1.2.0",
            "_view_name": "LayoutView",
            "align_content": null,
            "align_items": null,
            "align_self": null,
            "border": null,
            "bottom": null,
            "display": null,
            "flex": null,
            "flex_flow": null,
            "grid_area": null,
            "grid_auto_columns": null,
            "grid_auto_flow": null,
            "grid_auto_rows": null,
            "grid_column": null,
            "grid_gap": null,
            "grid_row": null,
            "grid_template_areas": null,
            "grid_template_columns": null,
            "grid_template_rows": null,
            "height": null,
            "justify_content": null,
            "justify_items": null,
            "left": null,
            "margin": null,
            "max_height": null,
            "max_width": null,
            "min_height": null,
            "min_width": null,
            "object_fit": null,
            "object_position": null,
            "order": null,
            "overflow": null,
            "overflow_x": null,
            "overflow_y": null,
            "padding": null,
            "right": null,
            "top": null,
            "visibility": null,
            "width": null
          }
        },
        "6a4f53ddaa894270b8dccd920c86c701": {
          "model_module": "@jupyter-widgets/controls",
          "model_name": "DescriptionStyleModel",
          "model_module_version": "1.5.0",
          "state": {
            "_model_module": "@jupyter-widgets/controls",
            "_model_module_version": "1.5.0",
            "_model_name": "DescriptionStyleModel",
            "_view_count": null,
            "_view_module": "@jupyter-widgets/base",
            "_view_module_version": "1.2.0",
            "_view_name": "StyleView",
            "description_width": ""
          }
        },
        "7d9362f73ace4ff580aa60a039a6f158": {
          "model_module": "@jupyter-widgets/controls",
          "model_name": "HBoxModel",
          "model_module_version": "1.5.0",
          "state": {
            "_dom_classes": [],
            "_model_module": "@jupyter-widgets/controls",
            "_model_module_version": "1.5.0",
            "_model_name": "HBoxModel",
            "_view_count": null,
            "_view_module": "@jupyter-widgets/controls",
            "_view_module_version": "1.5.0",
            "_view_name": "HBoxView",
            "box_style": "",
            "children": [
              "IPY_MODEL_cc8804d2841c4aa9ad7c495e3a56bf71",
              "IPY_MODEL_f54c41b7b56a42bd88c53ed78bf8b2ac",
              "IPY_MODEL_94d573e34c6243808de8194e863c2c1a"
            ],
            "layout": "IPY_MODEL_10926d746b3b4ad285107f5572e0ea9a"
          }
        },
        "cc8804d2841c4aa9ad7c495e3a56bf71": {
          "model_module": "@jupyter-widgets/controls",
          "model_name": "HTMLModel",
          "model_module_version": "1.5.0",
          "state": {
            "_dom_classes": [],
            "_model_module": "@jupyter-widgets/controls",
            "_model_module_version": "1.5.0",
            "_model_name": "HTMLModel",
            "_view_count": null,
            "_view_module": "@jupyter-widgets/controls",
            "_view_module_version": "1.5.0",
            "_view_name": "HTMLView",
            "description": "",
            "description_tooltip": null,
            "layout": "IPY_MODEL_03cb8fb6bd764acb9ebf7ed21af23a33",
            "placeholder": "​",
            "style": "IPY_MODEL_1e01c0f7b9204a93a47d24a895ed87f7",
            "value": "100%"
          }
        },
        "f54c41b7b56a42bd88c53ed78bf8b2ac": {
          "model_module": "@jupyter-widgets/controls",
          "model_name": "FloatProgressModel",
          "model_module_version": "1.5.0",
          "state": {
            "_dom_classes": [],
            "_model_module": "@jupyter-widgets/controls",
            "_model_module_version": "1.5.0",
            "_model_name": "FloatProgressModel",
            "_view_count": null,
            "_view_module": "@jupyter-widgets/controls",
            "_view_module_version": "1.5.0",
            "_view_name": "ProgressView",
            "bar_style": "success",
            "description": "",
            "description_tooltip": null,
            "layout": "IPY_MODEL_5e67e786f26e4ea28e17fa1f4428f551",
            "max": 15000,
            "min": 0,
            "orientation": "horizontal",
            "style": "IPY_MODEL_c32cc7e35ba84058bb62b8066dece340",
            "value": 15000
          }
        },
        "94d573e34c6243808de8194e863c2c1a": {
          "model_module": "@jupyter-widgets/controls",
          "model_name": "HTMLModel",
          "model_module_version": "1.5.0",
          "state": {
            "_dom_classes": [],
            "_model_module": "@jupyter-widgets/controls",
            "_model_module_version": "1.5.0",
            "_model_name": "HTMLModel",
            "_view_count": null,
            "_view_module": "@jupyter-widgets/controls",
            "_view_module_version": "1.5.0",
            "_view_name": "HTMLView",
            "description": "",
            "description_tooltip": null,
            "layout": "IPY_MODEL_5b62c8dbb20c46779449d92cf4d7fde3",
            "placeholder": "​",
            "style": "IPY_MODEL_67b5709eccce448d88733422963e78f6",
            "value": " 15000/15000 [44:44&lt;00:00,  6.82it/s]"
          }
        },
        "10926d746b3b4ad285107f5572e0ea9a": {
          "model_module": "@jupyter-widgets/base",
          "model_name": "LayoutModel",
          "model_module_version": "1.2.0",
          "state": {
            "_model_module": "@jupyter-widgets/base",
            "_model_module_version": "1.2.0",
            "_model_name": "LayoutModel",
            "_view_count": null,
            "_view_module": "@jupyter-widgets/base",
            "_view_module_version": "1.2.0",
            "_view_name": "LayoutView",
            "align_content": null,
            "align_items": null,
            "align_self": null,
            "border": null,
            "bottom": null,
            "display": null,
            "flex": null,
            "flex_flow": null,
            "grid_area": null,
            "grid_auto_columns": null,
            "grid_auto_flow": null,
            "grid_auto_rows": null,
            "grid_column": null,
            "grid_gap": null,
            "grid_row": null,
            "grid_template_areas": null,
            "grid_template_columns": null,
            "grid_template_rows": null,
            "height": null,
            "justify_content": null,
            "justify_items": null,
            "left": null,
            "margin": null,
            "max_height": null,
            "max_width": null,
            "min_height": null,
            "min_width": null,
            "object_fit": null,
            "object_position": null,
            "order": null,
            "overflow": null,
            "overflow_x": null,
            "overflow_y": null,
            "padding": null,
            "right": null,
            "top": null,
            "visibility": null,
            "width": null
          }
        },
        "03cb8fb6bd764acb9ebf7ed21af23a33": {
          "model_module": "@jupyter-widgets/base",
          "model_name": "LayoutModel",
          "model_module_version": "1.2.0",
          "state": {
            "_model_module": "@jupyter-widgets/base",
            "_model_module_version": "1.2.0",
            "_model_name": "LayoutModel",
            "_view_count": null,
            "_view_module": "@jupyter-widgets/base",
            "_view_module_version": "1.2.0",
            "_view_name": "LayoutView",
            "align_content": null,
            "align_items": null,
            "align_self": null,
            "border": null,
            "bottom": null,
            "display": null,
            "flex": null,
            "flex_flow": null,
            "grid_area": null,
            "grid_auto_columns": null,
            "grid_auto_flow": null,
            "grid_auto_rows": null,
            "grid_column": null,
            "grid_gap": null,
            "grid_row": null,
            "grid_template_areas": null,
            "grid_template_columns": null,
            "grid_template_rows": null,
            "height": null,
            "justify_content": null,
            "justify_items": null,
            "left": null,
            "margin": null,
            "max_height": null,
            "max_width": null,
            "min_height": null,
            "min_width": null,
            "object_fit": null,
            "object_position": null,
            "order": null,
            "overflow": null,
            "overflow_x": null,
            "overflow_y": null,
            "padding": null,
            "right": null,
            "top": null,
            "visibility": null,
            "width": null
          }
        },
        "1e01c0f7b9204a93a47d24a895ed87f7": {
          "model_module": "@jupyter-widgets/controls",
          "model_name": "DescriptionStyleModel",
          "model_module_version": "1.5.0",
          "state": {
            "_model_module": "@jupyter-widgets/controls",
            "_model_module_version": "1.5.0",
            "_model_name": "DescriptionStyleModel",
            "_view_count": null,
            "_view_module": "@jupyter-widgets/base",
            "_view_module_version": "1.2.0",
            "_view_name": "StyleView",
            "description_width": ""
          }
        },
        "5e67e786f26e4ea28e17fa1f4428f551": {
          "model_module": "@jupyter-widgets/base",
          "model_name": "LayoutModel",
          "model_module_version": "1.2.0",
          "state": {
            "_model_module": "@jupyter-widgets/base",
            "_model_module_version": "1.2.0",
            "_model_name": "LayoutModel",
            "_view_count": null,
            "_view_module": "@jupyter-widgets/base",
            "_view_module_version": "1.2.0",
            "_view_name": "LayoutView",
            "align_content": null,
            "align_items": null,
            "align_self": null,
            "border": null,
            "bottom": null,
            "display": null,
            "flex": null,
            "flex_flow": null,
            "grid_area": null,
            "grid_auto_columns": null,
            "grid_auto_flow": null,
            "grid_auto_rows": null,
            "grid_column": null,
            "grid_gap": null,
            "grid_row": null,
            "grid_template_areas": null,
            "grid_template_columns": null,
            "grid_template_rows": null,
            "height": null,
            "justify_content": null,
            "justify_items": null,
            "left": null,
            "margin": null,
            "max_height": null,
            "max_width": null,
            "min_height": null,
            "min_width": null,
            "object_fit": null,
            "object_position": null,
            "order": null,
            "overflow": null,
            "overflow_x": null,
            "overflow_y": null,
            "padding": null,
            "right": null,
            "top": null,
            "visibility": null,
            "width": null
          }
        },
        "c32cc7e35ba84058bb62b8066dece340": {
          "model_module": "@jupyter-widgets/controls",
          "model_name": "ProgressStyleModel",
          "model_module_version": "1.5.0",
          "state": {
            "_model_module": "@jupyter-widgets/controls",
            "_model_module_version": "1.5.0",
            "_model_name": "ProgressStyleModel",
            "_view_count": null,
            "_view_module": "@jupyter-widgets/base",
            "_view_module_version": "1.2.0",
            "_view_name": "StyleView",
            "bar_color": null,
            "description_width": ""
          }
        },
        "5b62c8dbb20c46779449d92cf4d7fde3": {
          "model_module": "@jupyter-widgets/base",
          "model_name": "LayoutModel",
          "model_module_version": "1.2.0",
          "state": {
            "_model_module": "@jupyter-widgets/base",
            "_model_module_version": "1.2.0",
            "_model_name": "LayoutModel",
            "_view_count": null,
            "_view_module": "@jupyter-widgets/base",
            "_view_module_version": "1.2.0",
            "_view_name": "LayoutView",
            "align_content": null,
            "align_items": null,
            "align_self": null,
            "border": null,
            "bottom": null,
            "display": null,
            "flex": null,
            "flex_flow": null,
            "grid_area": null,
            "grid_auto_columns": null,
            "grid_auto_flow": null,
            "grid_auto_rows": null,
            "grid_column": null,
            "grid_gap": null,
            "grid_row": null,
            "grid_template_areas": null,
            "grid_template_columns": null,
            "grid_template_rows": null,
            "height": null,
            "justify_content": null,
            "justify_items": null,
            "left": null,
            "margin": null,
            "max_height": null,
            "max_width": null,
            "min_height": null,
            "min_width": null,
            "object_fit": null,
            "object_position": null,
            "order": null,
            "overflow": null,
            "overflow_x": null,
            "overflow_y": null,
            "padding": null,
            "right": null,
            "top": null,
            "visibility": null,
            "width": null
          }
        },
        "67b5709eccce448d88733422963e78f6": {
          "model_module": "@jupyter-widgets/controls",
          "model_name": "DescriptionStyleModel",
          "model_module_version": "1.5.0",
          "state": {
            "_model_module": "@jupyter-widgets/controls",
            "_model_module_version": "1.5.0",
            "_model_name": "DescriptionStyleModel",
            "_view_count": null,
            "_view_module": "@jupyter-widgets/base",
            "_view_module_version": "1.2.0",
            "_view_name": "StyleView",
            "description_width": ""
          }
        }
      }
    }
  },
  "nbformat": 4,
  "nbformat_minor": 0
}